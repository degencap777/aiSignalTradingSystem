{
  "nbformat": 4,
  "nbformat_minor": 0,
  "metadata": {
    "colab": {
      "name": "[GOLD]-Stock Trading Strategy using Classification Algorithms to Predict Market Movements and Backtesting.ipynb",
      "private_outputs": true,
      "provenance": [],
      "collapsed_sections": [],
      "authorship_tag": "ABX9TyNaPZ3uhgP579nutBD2oztC",
      "include_colab_link": true
    },
    "kernelspec": {
      "name": "python3",
      "display_name": "Python 3"
    },
    "accelerator": "GPU"
  },
  "cells": [
    {
      "cell_type": "markdown",
      "metadata": {
        "id": "view-in-github",
        "colab_type": "text"
      },
      "source": [
        "<a href=\"https://colab.research.google.com/github/ProAek11/AI-SignalTradingSystem-Tested1-/blob/master/%5BGOLD%5D_Stock_Trading_Strategy_using_Classification_Algorithms_to_Predict_Market_Movements_and_Backtesting.ipynb\" target=\"_parent\"><img src=\"https://colab.research.google.com/assets/colab-badge.svg\" alt=\"Open In Colab\"/></a>"
      ]
    },
    {
      "cell_type": "code",
      "metadata": {
        "id": "N4ODFjk7Mepc"
      },
      "source": [
        "!pip install yfinance update\r\n",
        "!pip install seaborn update\r\n",
        "!pip install pyfolio update\r\n",
        "!pip install backtrader update\r\n"
      ],
      "execution_count": null,
      "outputs": []
    },
    {
      "cell_type": "code",
      "metadata": {
        "id": "9k_LYkynNNzS"
      },
      "source": [
        "# make the necessary imports \r\n",
        "import numpy as np\r\n",
        "from matplotlib import pyplot as plt\r\n",
        "import pandas as pd\r\n",
        "import seaborn as sns\r\n",
        "import yfinance as yf\r\n",
        "import warnings\r\n",
        "from sklearn import linear_model\r\n",
        "from sklearn.naive_bayes import GaussianNB\r\n",
        "from sklearn.svm import SVC\r\n",
        "from sklearn.ensemble import RandomForestClassifier\r\n",
        "from sklearn.neural_network import MLPClassifier\r\n",
        "import datetime\r\n",
        "import time\r\n",
        "import pyfolio as pf\r\n",
        "import backtrader as bt\r\n",
        "from backtrader.feeds import PandasData\r\n",
        "import warnings\r\n",
        "\r\n",
        "# set the style and ignore warnings\r\n",
        "plt.style.use('seaborn-colorblind')\r\n",
        "warnings.simplefilter(action='ignore', category=FutureWarning)\r\n",
        "warnings.filterwarnings('ignore')"
      ],
      "execution_count": null,
      "outputs": []
    },
    {
      "cell_type": "code",
      "metadata": {
        "id": "b6mbcSihOWIK"
      },
      "source": [
        "\r\n",
        "# this is to display images in notebook\r\n",
        "%matplotlib inline\r\n",
        "%config InlineBackend.figure_format = 'retina'"
      ],
      "execution_count": null,
      "outputs": []
    },
    {
      "cell_type": "code",
      "metadata": {
        "id": "PIQt4EtpPQsy"
      },
      "source": [
        "# ticker and the start and end dates for testing\r\n",
        "ticker = 'BTC-USD' #BTCUSD\r\n",
        "today = time.strftime(\"%Y/%m/%d\")\r\n",
        "start = datetime.datetime(2010, 1, 1)\r\n",
        "end = datetime.datetime(2021, 2, 6)\r\n",
        "#end = datetime.datetime(2020, 7, 31)"
      ],
      "execution_count": null,
      "outputs": []
    },
    {
      "cell_type": "code",
      "metadata": {
        "id": "nzptRJJ3PaSC"
      },
      "source": [
        "# download ticker ‘Adj Close’ price from yahoo finance\r\n",
        "stock =  yf.download(ticker, progress=True, actions=True,start=start, end=end)['Adj Close']\r\n",
        "stock = pd.DataFrame(stock)\r\n",
        "stock.rename(columns = {'Adj Close':ticker}, inplace=True)\r\n",
        "stock.head(2)"
      ],
      "execution_count": null,
      "outputs": []
    },
    {
      "cell_type": "code",
      "metadata": {
        "id": "Kw23CkSOPcPp"
      },
      "source": [
        "# calculate daily log returns and market direction\r\n",
        "stock['returns'] = np.log(stock / stock.shift(1))\r\n",
        "stock.dropna(inplace=True)\r\n",
        "stock['direction'] = np.sign(stock['returns']).astype(int)\r\n",
        "stock.head(3)"
      ],
      "execution_count": null,
      "outputs": []
    },
    {
      "cell_type": "code",
      "metadata": {
        "id": "fQnyWNdJPe1A"
      },
      "source": [
        "# visualize the closing price and daily returns\r\n",
        "fig, ax = plt.subplots(2, 1, sharex=True, figsize = (12,6))\r\n",
        "ax[0].plot(stock[ticker], label = f'{ticker} Adj Close')\r\n",
        "ax[0].set(title = f'{ticker} Closing Price', ylabel = 'Price')\r\n",
        "ax[0].grid(True)\r\n",
        "ax[0].legend()\r\n",
        "\r\n",
        "ax[1].plot(stock['returns'], label = 'Daily Returns')\r\n",
        "ax[1].set(title = f'{ticker} Daily Retunrs', ylabel = 'Returns')\r\n",
        "ax[1].grid(True)\r\n",
        "plt.legend()\r\n",
        "\r\n",
        "plt.tight_layout();\r\n",
        "plt.savefig('images/chart1', dpi=300)"
      ],
      "execution_count": null,
      "outputs": []
    },
    {
      "cell_type": "code",
      "metadata": {
        "id": "S48LKKp0Ph5R"
      },
      "source": [
        "# define the number of lags\r\n",
        "lags = [1, 2, 3, 4, 5]"
      ],
      "execution_count": null,
      "outputs": []
    },
    {
      "cell_type": "code",
      "metadata": {
        "id": "BJPK2hHJP1DI"
      },
      "source": [
        "# compute lagged log returns\r\n",
        "cols = []\r\n",
        "for lag in lags:\r\n",
        "    col = f'rtn_lag{lag}'\r\n",
        "    stock[col] = stock['returns'].shift(lag)\r\n",
        "    cols.append(col)\r\n",
        "\r\n",
        "stock.dropna(inplace=True)\r\n",
        "stock.head(2)"
      ],
      "execution_count": null,
      "outputs": []
    },
    {
      "cell_type": "code",
      "metadata": {
        "id": "x2FQSEmFP3LB"
      },
      "source": [
        "# function to transform the lag returns to binary values (0,+1)\r\n",
        "def create_bins(data, bins=[0]):\r\n",
        "    global cols_bin\r\n",
        "    cols_bin = []\r\n",
        "    for col in cols:\r\n",
        "        col_bin = col + '_bin'\r\n",
        "        data[col_bin] = np.digitize(data[col], bins=bins)  \r\n",
        "        cols_bin.append(col_bin)"
      ],
      "execution_count": null,
      "outputs": []
    },
    {
      "cell_type": "code",
      "metadata": {
        "id": "ASCMrpYLP5wI"
      },
      "source": [
        "create_bins(stock)\r\n",
        "stock[cols+cols_bin].head(2)"
      ],
      "execution_count": null,
      "outputs": []
    },
    {
      "cell_type": "code",
      "metadata": {
        "id": "8pJTuqCaP8Bh"
      },
      "source": [
        "\r\n",
        "# create a dictionary of selected algorithms\r\n",
        "models = {\r\n",
        "    'log_reg': linear_model.LogisticRegression(),\r\n",
        "    'gauss_nb': GaussianNB(),\r\n",
        "    'svm': SVC(),\r\n",
        "    'random_forest': RandomForestClassifier(max_depth=10, n_estimators=100),\r\n",
        "    'MLP' : MLPClassifier(max_iter=500),\r\n",
        "}"
      ],
      "execution_count": null,
      "outputs": []
    },
    {
      "cell_type": "code",
      "metadata": {
        "id": "vi7pPn5oQFCb"
      },
      "source": [
        "# function that fits all models.\r\n",
        "def fit_models(data):  \r\n",
        "    mfit = {model: models[model].fit(data[cols_bin], data['direction']) for model in models.keys()}"
      ],
      "execution_count": null,
      "outputs": []
    },
    {
      "cell_type": "code",
      "metadata": {
        "id": "T9fFRQQiQIcL"
      },
      "source": [
        "# function that predicts (derives all position values) from the fitted models\r\n",
        "def derive_positions(data):  \r\n",
        "    for model in models.keys():\r\n",
        "        data['pos_' + model] = models[model].predict(data[cols_bin])"
      ],
      "execution_count": null,
      "outputs": []
    },
    {
      "cell_type": "code",
      "metadata": {
        "id": "UGR2fFvsQKVx"
      },
      "source": [
        "# function to evaluate all trading strategies\r\n",
        "def evaluate_strats(data):  \r\n",
        "    global strategy_rtn\r\n",
        "    strategy_rtn = []\r\n",
        "    for model in models.keys():\r\n",
        "        col = 'strategy_' + model \r\n",
        "        data[col] = data['pos_' + model] * data['returns']\r\n",
        "        strategy_rtn.append(col)\r\n",
        "    strategy_rtn.insert(0, 'returns')"
      ],
      "execution_count": null,
      "outputs": []
    },
    {
      "cell_type": "code",
      "metadata": {
        "id": "lthOoXwWQMQH"
      },
      "source": [
        "\r\n",
        "# fit the models\r\n",
        "fit_models(stock)"
      ],
      "execution_count": null,
      "outputs": []
    },
    {
      "cell_type": "code",
      "metadata": {
        "id": "MNeXkkm3QONA"
      },
      "source": [
        "# derives all position values\r\n",
        "derive_positions(stock)"
      ],
      "execution_count": null,
      "outputs": []
    },
    {
      "cell_type": "code",
      "metadata": {
        "id": "2e6NnI_WQQjP"
      },
      "source": [
        "# evaluate all trading strategies by multiplying predicted directions to actual daily returns\r\n",
        "evaluate_strats(stock)"
      ],
      "execution_count": null,
      "outputs": []
    },
    {
      "cell_type": "code",
      "metadata": {
        "id": "xj2mGMjSQSZI"
      },
      "source": [
        "# calculate total return and std. deviation of each strategy\r\n",
        "print('\\nTotal Returns:')\r\n",
        "print(stock[strategy_rtn].sum().apply(np.exp))\r\n",
        "print('\\nAnnual Volatility:')\r\n",
        "stock[strategy_rtn].std() * 252 ** 0.5"
      ],
      "execution_count": null,
      "outputs": []
    },
    {
      "cell_type": "code",
      "metadata": {
        "id": "qCaSyVydQUOp"
      },
      "source": [
        "\r\n",
        "# number of trades over time for highest and second highest return strategy\r\n",
        "print('Number of trades SVM = ', (stock['pos_svm'].diff()!=0).sum())\r\n",
        "print('Number of trades Ramdom Forest = ',(stock['pos_random_forest'].diff()!=0).sum())\r\n",
        "print('Number of trades strategy MLP = ',(stock['pos_MLP'].diff()!=0).sum())"
      ],
      "execution_count": null,
      "outputs": []
    },
    {
      "cell_type": "code",
      "metadata": {
        "id": "lpgge673QW74"
      },
      "source": [
        "# stock[[ticker]+ strategy_rtn].head(2)"
      ],
      "execution_count": null,
      "outputs": []
    },
    {
      "cell_type": "code",
      "metadata": {
        "id": "DCSf4H57QY1R"
      },
      "source": [
        "# vectorized backtesting of the resulting trading strategies and visualize the performance over time\r\n",
        "ax = stock[strategy_rtn].cumsum().apply(np.exp).plot(figsize=(12, 6), \r\n",
        "                                                     title = 'Machine Learning Classifiers Return Comparison')\r\n",
        "ax.set_ylabel(\"Cumulative Returns\")\r\n",
        "ax.grid(True);\r\n",
        "plt.tight_layout();\r\n",
        "plt.savefig('images/chart2', dpi=300)"
      ],
      "execution_count": null,
      "outputs": []
    },
    {
      "cell_type": "code",
      "metadata": {
        "id": "bx6axjM0QbsU"
      },
      "source": [
        "# fetch the daily pricing data from yahoo finance\r\n",
        "prices =  yf.download(ticker, progress=True, actions=True, start=start, end=end)\r\n",
        "prices.head(2)"
      ],
      "execution_count": null,
      "outputs": []
    },
    {
      "cell_type": "code",
      "metadata": {
        "id": "eOKq8o8EQ9nn"
      },
      "source": [
        "# rename the columns as needed for Backtrader\r\n",
        "prices.drop(['Close','Dividends','Stock Splits'], inplace=True, axis=1)\r\n",
        "prices.rename(columns = {'Open':'open','High':'high','Low':'low','Adj Close':'close','Volume':'volume',\r\n",
        "                         }, inplace=True)"
      ],
      "execution_count": null,
      "outputs": []
    },
    {
      "cell_type": "code",
      "metadata": {
        "id": "xKu_UTk1Q_3Y"
      },
      "source": [
        "prices.head(3)"
      ],
      "execution_count": null,
      "outputs": []
    },
    {
      "cell_type": "code",
      "metadata": {
        "id": "XpnQnBAFRCFH"
      },
      "source": [
        "\r\n",
        "# add the predicted column to prices dataframe. This will be used as signal for buy or sell\r\n",
        "predictions = stock['strategy_svm']\r\n",
        "predictions = pd.DataFrame(predictions)\r\n",
        "predictions.rename(columns = {'strategy_svm':'predicted'}, inplace=True)\r\n",
        "prices = predictions.join(prices, how='right').dropna()\r\n",
        "prices.head(2)"
      ],
      "execution_count": null,
      "outputs": []
    },
    {
      "cell_type": "code",
      "metadata": {
        "id": "o226OA9URD5e"
      },
      "source": [
        "# prices[['predicted']].sum().apply(np.exp)"
      ],
      "execution_count": null,
      "outputs": []
    },
    {
      "cell_type": "code",
      "metadata": {
        "id": "-FL9Go7lRIDG"
      },
      "source": [
        "OHLCV = ['open', 'high', 'low', 'close', 'volume']"
      ],
      "execution_count": null,
      "outputs": []
    },
    {
      "cell_type": "code",
      "metadata": {
        "id": "FuOTrXyMRKQb"
      },
      "source": [
        "# class to define the columns we will provide\r\n",
        "class SignalData(PandasData):\r\n",
        "    \"\"\"\r\n",
        "    Define pandas DataFrame structure\r\n",
        "    \"\"\"\r\n",
        "    cols = OHLCV + ['predicted']\r\n",
        "\r\n",
        "    # create lines\r\n",
        "    lines = tuple(cols)\r\n",
        "\r\n",
        "    # define parameters\r\n",
        "    params = {c: -1 for c in cols}\r\n",
        "    params.update({'datetime': None})\r\n",
        "    params = tuple(params.items())"
      ],
      "execution_count": null,
      "outputs": []
    },
    {
      "cell_type": "code",
      "metadata": {
        "id": "e7mMJYy0ROKV"
      },
      "source": [
        "# define backtesting strategy class\r\n",
        "class MLStrategy(bt.Strategy):\r\n",
        "    params = dict(\r\n",
        "    )\r\n",
        "    \r\n",
        "    def __init__(self):\r\n",
        "        # keep track of open, close prices and predicted value in the series\r\n",
        "        self.data_predicted = self.datas[0].predicted\r\n",
        "        self.data_open = self.datas[0].open\r\n",
        "        self.data_close = self.datas[0].close\r\n",
        "        \r\n",
        "        # keep track of pending orders/buy price/buy commission\r\n",
        "        self.order = None\r\n",
        "        self.price = None\r\n",
        "        self.comm = None\r\n",
        "\r\n",
        "    # logging function\r\n",
        "    def log(self, txt):\r\n",
        "        '''Logging function'''\r\n",
        "        dt = self.datas[0].datetime.date(0).isoformat()\r\n",
        "        print(f'{dt}, {txt}')\r\n",
        "\r\n",
        "    def notify_order(self, order):\r\n",
        "        if order.status in [order.Submitted, order.Accepted]:\r\n",
        "            # order already submitted/accepted - no action required\r\n",
        "            return\r\n",
        "\r\n",
        "        # report executed order\r\n",
        "        if order.status in [order.Completed]:\r\n",
        "            if order.isbuy():\r\n",
        "                self.log(f'BUY EXECUTED --- Price: {order.executed.price:.2f}, Cost: {order.executed.value:.2f},Commission: {order.executed.comm:.2f}'\r\n",
        "                )\r\n",
        "                self.price = order.executed.price\r\n",
        "                self.comm = order.executed.comm\r\n",
        "            else:\r\n",
        "                self.log(f'SELL EXECUTED --- Price: {order.executed.price:.2f}, Cost: {order.executed.value:.2f},Commission: {order.executed.comm:.2f}'\r\n",
        "                )\r\n",
        "\r\n",
        "        # report failed order\r\n",
        "        elif order.status in [order.Canceled, order.Margin, \r\n",
        "                              order.Rejected]:\r\n",
        "            self.log('Order Failed')\r\n",
        "\r\n",
        "        # set no pending order\r\n",
        "        self.order = None\r\n",
        "\r\n",
        "    def notify_trade(self, trade):\r\n",
        "        if not trade.isclosed:\r\n",
        "            return\r\n",
        "        self.log(f'OPERATION RESULT --- Gross: {trade.pnl:.2f}, Net: {trade.pnlcomm:.2f}')\r\n",
        "\r\n",
        "    # We have set cheat_on_open = True.This means that we calculated the signals on day t's close price, \r\n",
        "    # but calculated the number of shares we wanted to buy based on day t+1's open price.\r\n",
        "    def next_open(self):\r\n",
        "        if not self.position:\r\n",
        "            if self.data_predicted > 0:\r\n",
        "                # calculate the max number of shares ('all-in')\r\n",
        "                size = int(self.broker.getcash() / self.datas[0].open)\r\n",
        "                # buy order\r\n",
        "                self.log(f'BUY CREATED --- Size: {size}, Cash: {self.broker.getcash():.2f}, Open: {self.data_open[0]}, Close: {self.data_close[0]}')\r\n",
        "                self.buy(size=size)\r\n",
        "        else:\r\n",
        "            if self.data_predicted < 0:\r\n",
        "                # sell order\r\n",
        "                self.log(f'SELL CREATED --- Size: {self.position.size}')\r\n",
        "                self.sell(size=self.position.size)"
      ],
      "execution_count": null,
      "outputs": []
    },
    {
      "cell_type": "code",
      "metadata": {
        "id": "QOeKvTZ2RRv4"
      },
      "source": [
        "# instantiate SignalData class\r\n",
        "data = SignalData(dataname=prices)"
      ],
      "execution_count": null,
      "outputs": []
    },
    {
      "cell_type": "code",
      "metadata": {
        "id": "PA0kCdE6RbwO"
      },
      "source": [
        "# instantiate Cerebro, add strategy, data, initial cash, commission and pyfolio for performance analysis\r\n",
        "cerebro = bt.Cerebro(stdstats = False, cheat_on_open=True)\r\n",
        "cerebro.addstrategy(MLStrategy)\r\n",
        "cerebro.adddata(data, name=ticker)\r\n",
        "cerebro.broker.setcash(10000.0)\r\n",
        "cerebro.broker.setcommission(commission=0.000)\r\n",
        "cerebro.addanalyzer(bt.analyzers.PyFolio, _name='pyfolio')"
      ],
      "execution_count": null,
      "outputs": []
    },
    {
      "cell_type": "code",
      "metadata": {
        "id": "TiCklpEDRl__"
      },
      "source": [
        "# run the backtest\r\n",
        "print('Starting Portfolio Value: %.2f' % cerebro.broker.getvalue())\r\n",
        "backtest_result = cerebro.run()\r\n",
        "print('Final Portfolio Value: %.2f' % cerebro.broker.getvalue())"
      ],
      "execution_count": null,
      "outputs": []
    },
    {
      "cell_type": "code",
      "metadata": {
        "id": "Lhy1GGk7RoaY"
      },
      "source": [
        "# Extract inputs for pyfolio\r\n",
        "strat = backtest_result[0]\r\n",
        "pyfoliozer = strat.analyzers.getbyname('pyfolio')\r\n",
        "returns, positions, transactions, gross_lev = pyfoliozer.get_pf_items()\r\n",
        "returns.name = 'Strategy'\r\n",
        "returns.head(2)"
      ],
      "execution_count": null,
      "outputs": []
    },
    {
      "cell_type": "code",
      "metadata": {
        "id": "VkUEirwUSWRI"
      },
      "source": [
        "# get benchmark returns\r\n",
        "benchmark_rets= stock['returns']\r\n",
        "benchmark_rets.index = benchmark_rets.index.tz_localize('UTC') \r\n",
        "benchmark_rets = benchmark_rets.filter(returns.index)\r\n",
        "benchmark_rets.name = 'Nifty-50'\r\n",
        "benchmark_rets.head(2)"
      ],
      "execution_count": null,
      "outputs": []
    },
    {
      "cell_type": "code",
      "metadata": {
        "id": "obYlZ6KjSZpi"
      },
      "source": [
        "# get performance statistics for strategy\r\n",
        "pf.show_perf_stats(returns)"
      ],
      "execution_count": null,
      "outputs": []
    },
    {
      "cell_type": "code",
      "metadata": {
        "id": "YMIsrjVKSdMq"
      },
      "source": [
        "# plot performance for strategy vs benchmark\r\n",
        "fig, ax = plt.subplots(nrows=2, ncols=2, figsize=(16, 9),constrained_layout=True)\r\n",
        "axes = ax.flatten()\r\n",
        "\r\n",
        "pf.plot_drawdown_periods(returns=returns, ax=axes[0])\r\n",
        "axes[0].grid(True)\r\n",
        "pf.plot_rolling_returns(returns=returns,\r\n",
        "                        factor_returns=benchmark_rets,\r\n",
        "                        ax=axes[1], title='Strategy vs Nifty-50')\r\n",
        "axes[1].grid(True)\r\n",
        "pf.plot_drawdown_underwater(returns=returns, ax=axes[2])\r\n",
        "axes[2].grid(True)\r\n",
        "pf.plot_rolling_sharpe(returns=returns, ax=axes[3])\r\n",
        "axes[3].grid(True)\r\n",
        "# fig.suptitle('Strategy vs Nifty-50 (Buy and Hold)', fontsize=16, y=0.990)\r\n",
        "\r\n",
        "plt.grid(True)\r\n",
        "plt.legend()\r\n",
        "plt.tight_layout()\r\n",
        "plt.savefig('images/chart3', dpi=300)"
      ],
      "execution_count": null,
      "outputs": []
    },
    {
      "cell_type": "code",
      "metadata": {
        "id": "1BLl53X6Sh2m"
      },
      "source": [
        "# plot performance for strategy vs benchmark\r\n",
        "fig, ax = plt.subplots(nrows=2, ncols=2, figsize=(16, 9),constrained_layout=True)\r\n",
        "axes = ax.flatten()\r\n",
        "\r\n",
        "pf.plot_rolling_beta(returns=returns, factor_returns=benchmark_rets, ax=axes[0])\r\n",
        "axes[0].grid(True)\r\n",
        "\r\n",
        "pf.plot_rolling_volatility(returns=returns, factor_returns=benchmark_rets,ax=axes[1])\r\n",
        "axes[1].grid(True)\r\n",
        "\r\n",
        "pf.plot_annual_returns(returns=returns, ax=axes[2])\r\n",
        "axes[2].grid(True)\r\n",
        "\r\n",
        "pf.plot_monthly_returns_heatmap(returns=returns, ax=axes[3],)\r\n",
        "# fig.suptitle('BL Portfolio vs BSE-SENSEX - 2', fontsize=16, y=1.0)\r\n",
        "\r\n",
        "\r\n",
        "plt.tight_layout()\r\n",
        "plt.savefig('images/chart4', dpi=300)"
      ],
      "execution_count": null,
      "outputs": []
    },
    {
      "cell_type": "code",
      "metadata": {
        "id": "tbtWieWUS9mF"
      },
      "source": [
        ""
      ],
      "execution_count": null,
      "outputs": []
    }
  ]
}